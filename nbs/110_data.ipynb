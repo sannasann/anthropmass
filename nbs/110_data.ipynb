{
 "cells": [
  {
   "cell_type": "code",
   "execution_count": null,
   "metadata": {},
   "outputs": [],
   "source": [
    "import pandas as pd"
   ]
  },
  {
   "cell_type": "markdown",
   "metadata": {},
   "source": [
    "### Read ansur data\n",
    "divide weight with 10 to get kg"
   ]
  },
  {
   "cell_type": "code",
   "execution_count": null,
   "metadata": {},
   "outputs": [],
   "source": [
    "def read_file():\n",
    "    datamale=pd.read_csv('../data/raw/ANSURIIMALEPublic.csv', encoding='latin')  \n",
    "    datafemale=pd.read_csv('../data/raw/ANSURIIFEMALEPublic.csv')  \n",
    "\n",
    "    datafemale = datafemale.rename(columns= {\"SubjectId\":\"subjectid\"}) \n",
    "    ansur = pd.concat([datamale, datafemale])\n",
    "    ansur['Gender']=ansur['Gender'].map({'Male': 1, 'Female': 0})\n",
    "    \n",
    "    ansur[\"weightkg\"] = ansur[\"weightkg\"]/10\n",
    "    return ansur"
   ]
  },
  {
   "cell_type": "code",
   "execution_count": null,
   "metadata": {},
   "outputs": [],
   "source": [
    "ansur = read_file()\n",
    "ansur.to_csv('../data/processed/ANSURIImalefemale.csv', index=False)"
   ]
  },
  {
   "cell_type": "code",
   "execution_count": null,
   "metadata": {},
   "outputs": [],
   "source": []
  }
 ],
 "metadata": {
  "kernelspec": {
   "display_name": "python3",
   "language": "python",
   "name": "python3"
  }
 },
 "nbformat": 4,
 "nbformat_minor": 2
}

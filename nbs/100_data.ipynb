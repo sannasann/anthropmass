{
 "cells": [
  {
   "cell_type": "markdown",
   "id": "21fcae95",
   "metadata": {},
   "source": [
    "## Export"
   ]
  },
  {
   "cell_type": "code",
   "execution_count": null,
   "id": "f514ac9a",
   "metadata": {},
   "outputs": [],
   "source": [
    "#| default_exp data_module"
   ]
  },
  {
   "cell_type": "code",
   "execution_count": null,
   "id": "27b6867a",
   "metadata": {},
   "outputs": [],
   "source": [
    "#| export\n",
    "import pandas as pd\n",
    "from sklearn.model_selection import train_test_split"
   ]
  },
  {
   "cell_type": "markdown",
   "id": "2662eba7-7a74-4549-8ed5-381f7b4876e9",
   "metadata": {},
   "source": [
    "### Normailze\n",
    "def norm\n",
    "def norm_all"
   ]
  },
  {
   "cell_type": "code",
   "execution_count": null,
   "id": "e97b7a1a",
   "metadata": {},
   "outputs": [],
   "source": [
    "#| export\n",
    "def normalize(data:dict, measurement:str):\n",
    "    ansur=pd.read_csv('../data/processed/ANSURIImalefemale.csv')\n",
    "    avg_m = ansur[measurement].mean()\n",
    "    std_m = ansur[measurement].std()\n",
    "    data[measurement] = (data[measurement] - avg_m) / std_m\n",
    "    return data"
   ]
  },
  {
   "cell_type": "code",
   "execution_count": null,
   "id": "fb838a1e-c91a-4e5b-a3fb-14d7a381ef8f",
   "metadata": {},
   "outputs": [],
   "source": [
    "#| export\n",
    "def normalize_all(data, measurement:list):\n",
    "    for m in measurement:\n",
    "        data = normalize(data, m)\n",
    "    return data"
   ]
  },
  {
   "cell_type": "code",
   "execution_count": null,
   "id": "8970fa0a-3f51-46d8-aee6-ed3e17f78cfa",
   "metadata": {},
   "outputs": [],
   "source": [
    "ansur=pd.read_csv('../data/processed/ANSURIImalefemale.csv')\n",
    "normalized = normalize_all(ansur, ['weightkg', 'stature'])\n",
    "normalized.to_csv('../data/processed/ANSURIInormalized.csv', index=False)"
   ]
  },
  {
   "cell_type": "markdown",
   "id": "1cb51d02-b08e-445b-a75a-4daf73b09452",
   "metadata": {},
   "source": [
    "### Train and test data"
   ]
  },
  {
   "cell_type": "code",
   "execution_count": null,
   "id": "a7ef1ae2-945d-4652-877a-c766551be70b",
   "metadata": {},
   "outputs": [],
   "source": [
    "#| export\n",
    "def make_train_test(data, test_size:float):\n",
    "    train, test = train_test_split(data, test_size=test_size, shuffle=True, random_state=42)\n",
    "    return train, test"
   ]
  },
  {
   "cell_type": "code",
   "execution_count": null,
   "id": "9019110d-bffd-49ad-9768-d912d945a9a4",
   "metadata": {},
   "outputs": [],
   "source": [
    "train, test = make_train_test(normalized,0.2)\n",
    "train.to_csv('../data/processed/ANSURIInormalizedtrain.csv', index=False)\n",
    "test.to_csv('../data/processed/ANSURIInormalizedtest.csv', index=False)"
   ]
  },
  {
   "cell_type": "code",
   "execution_count": null,
   "id": "d891bb00",
   "metadata": {},
   "outputs": [],
   "source": [
    "#| export\n",
    "def testaren():\n",
    "    pass"
   ]
  },
  {
   "cell_type": "code",
   "execution_count": null,
   "id": "8ba07a97-d4f0-4612-8357-683bc61c7251",
   "metadata": {},
   "outputs": [],
   "source": [
    "import nbdev\n",
    "nbdev.nbdev_export()"
   ]
  },
  {
   "cell_type": "code",
   "execution_count": null,
   "id": "5ae11804",
   "metadata": {},
   "outputs": [],
   "source": []
  }
 ],
 "metadata": {
  "kernelspec": {
   "display_name": "python3",
   "language": "python",
   "name": "python3"
  }
 },
 "nbformat": 4,
 "nbformat_minor": 5
}

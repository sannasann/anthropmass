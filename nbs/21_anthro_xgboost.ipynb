{
 "cells": [
  {
   "cell_type": "code",
   "execution_count": 25,
   "id": "c17a46e6-c68d-4b4e-9816-42a47cd324fd",
   "metadata": {},
   "outputs": [],
   "source": [
    "import pandas as pd\n",
    "import xgboost as xgb\n",
    "import pickle"
   ]
  },
  {
   "cell_type": "code",
   "execution_count": 26,
   "id": "a1375916-7a2b-41f1-b4c2-93d59add6203",
   "metadata": {},
   "outputs": [],
   "source": [
    "train=pd.read_csv('../data/processed/ANSURIInormalizedtest.csv')"
   ]
  },
  {
   "cell_type": "code",
   "execution_count": 27,
   "id": "89d89a74-63a4-474a-aee4-1d8c57fa80c1",
   "metadata": {},
   "outputs": [],
   "source": [
    "def make_model(predicted_variable, train, model_type=False):\n",
    "    if model_type == 'ardregression':\n",
    "        model = linear_model.ARDRegression()\n",
    "    elif model_type == 'linearregression':\n",
    "        model = linear_model.LinearRegression()\n",
    "    elif model_type == 'ridge':\n",
    "        model = linear_model.Ridge()\n",
    "    elif model_type == 'lasso':\n",
    "        model = linear_model.Lasso()\n",
    "    elif model_type == 'bayesianridge':\n",
    "        model = linear_model.BayesianRidge()\n",
    "    else:\n",
    "        model = xgb.XGBRegressor(objective='reg:squarederror', n_estimators=100, learning_rate=0.1)\n",
    "        \n",
    "    x_train = train[['weightkg','stature','Gender']]\n",
    "    y_train = train[[predicted_variable]]\n",
    "    model.fit(x_train, y_train.values.flatten())\n",
    "    return model"
   ]
  },
  {
   "cell_type": "code",
   "execution_count": 28,
   "id": "618b475f-4ac4-4889-abe0-495f44b8af39",
   "metadata": {},
   "outputs": [],
   "source": [
    "y_train=train.iloc[:,1:94].drop('weightkg',axis=1).drop('stature',axis=1)\n",
    "variables = y_train.columns[1:2]\n",
    "kindofmodel = 'xgb'\n",
    "for var in variables:\n",
    "    model = make_model(var, train, kindofmodel)\n",
    "    with open(f'../output/anthro_models/xgboost/pickle_{var}_{kindofmodel}','wb') as file:\n",
    "        pickle.dump(model,file)"
   ]
  },
  {
   "cell_type": "code",
   "execution_count": null,
   "id": "d6ba7d57-bb88-47a8-9230-b8172e27c9ab",
   "metadata": {},
   "outputs": [],
   "source": []
  }
 ],
 "metadata": {
  "kernelspec": {
   "display_name": "Python 3 (ipykernel)",
   "language": "python",
   "name": "python3"
  },
  "language_info": {
   "codemirror_mode": {
    "name": "ipython",
    "version": 3
   },
   "file_extension": ".py",
   "mimetype": "text/x-python",
   "name": "python",
   "nbconvert_exporter": "python",
   "pygments_lexer": "ipython3",
   "version": "3.11.7"
  }
 },
 "nbformat": 4,
 "nbformat_minor": 5
}

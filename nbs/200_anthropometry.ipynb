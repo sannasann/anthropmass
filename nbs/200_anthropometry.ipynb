{
 "cells": [
  {
   "cell_type": "markdown",
   "id": "4f3b1568-bdc0-4579-bdf0-3f62b0646fb3",
   "metadata": {},
   "source": [
    "Here is the code where you put in H, M, G, model and measurement"
   ]
  },
  {
   "cell_type": "code",
   "execution_count": null,
   "id": "4e31f1e9",
   "metadata": {},
   "outputs": [],
   "source": [
    "#| default_exp test_module"
   ]
  },
  {
   "cell_type": "code",
   "execution_count": null,
   "id": "8ad32b88",
   "metadata": {},
   "outputs": [],
   "source": [
    "#| export\n",
    "def testis():\n",
    "    return 2+2"
   ]
  },
  {
   "cell_type": "code",
   "execution_count": null,
   "id": "14f69e28",
   "metadata": {},
   "outputs": [],
   "source": [
    "#| export\n",
    "def test2():\n",
    "    return 2"
   ]
  },
  {
   "cell_type": "code",
   "execution_count": null,
   "id": "4eb34314",
   "metadata": {},
   "outputs": [],
   "source": [
    "import nbdev\n",
    "nbdev.nbdev_export()"
   ]
  },
  {
   "cell_type": "code",
   "execution_count": null,
   "id": "2a731126-f34d-4015-91c7-081cdb8b2eae",
   "metadata": {},
   "outputs": [],
   "source": [
    "import pickle\n",
    "import pandas as pd \n",
    "#from anthropmass.data_module import *"
   ]
  },
  {
   "cell_type": "markdown",
   "id": "53a08889",
   "metadata": {},
   "source": [
    "Normalize is in data module but i dont know how to import"
   ]
  },
  {
   "cell_type": "code",
   "execution_count": null,
   "id": "c8fd12d4",
   "metadata": {},
   "outputs": [],
   "source": [
    "def normalize(data:dict, measurement:str):\n",
    "    ansur=pd.read_csv('../data/processed/ANSURIImalefemale.csv')\n",
    "    avg_m = ansur[measurement].mean()\n",
    "    std_m = ansur[measurement].std()\n",
    "    data[measurement] = (data[measurement] - avg_m) / std_m\n",
    "    return data"
   ]
  },
  {
   "cell_type": "markdown",
   "id": "3244e0f1",
   "metadata": {},
   "source": [
    "This function is normalizing the persons weight and height"
   ]
  },
  {
   "cell_type": "code",
   "execution_count": null,
   "id": "7a0fc03c",
   "metadata": {},
   "outputs": [],
   "source": [
    "def normalize_person(weight, height, gender):\n",
    "    person=pd.DataFrame({'weightkg': [weight], 'stature': [height], 'Gender': [gender]})\n",
    "    normalize(person, 'weightkg')\n",
    "    normalize(person, 'stature')\n",
    "    return person"
   ]
  },
  {
   "cell_type": "markdown",
   "id": "58445477",
   "metadata": {},
   "source": [
    "This functions gets the pickled model"
   ]
  },
  {
   "cell_type": "code",
   "execution_count": null,
   "id": "0512f685-64d5-40b3-97ca-a28089167f4f",
   "metadata": {},
   "outputs": [],
   "source": [
    "def get_pickled_model(kindofmodel:str, measurement:str):\n",
    "    filepath = f'../output/anthro_models/{kindofmodel}/pickle_{measurement}_{kindofmodel}'\n",
    "    with open(filepath,'rb') as file:\n",
    "        model=pickle.load(file)\n",
    "    return model"
   ]
  },
  {
   "cell_type": "markdown",
   "id": "8256ab4d",
   "metadata": {},
   "source": [
    "Predict_from_model uses the pickled model and the normalized person to predict the measurement"
   ]
  },
  {
   "cell_type": "code",
   "execution_count": null,
   "id": "3a317717-e0d6-46f0-b251-68b698f100ba",
   "metadata": {},
   "outputs": [],
   "source": [
    "def predict_from_model(kindofmodel:str, measurement:str, w, h, g):\n",
    "    model = get_pickled_model(kindofmodel, measurement)\n",
    "    person = normalize_person(w, h, g)\n",
    "    return model.predict(person)"
   ]
  },
  {
   "cell_type": "code",
   "execution_count": null,
   "id": "9294e0d5-0c6d-4dc6-9662-3169ff5b0308",
   "metadata": {},
   "outputs": [],
   "source": [
    "def add_to_df(df, measurement, pred):\n",
    "    df[measurement]=pred\n",
    "    return df"
   ]
  },
  {
   "cell_type": "markdown",
   "id": "32f44ca7",
   "metadata": {},
   "source": [
    "I dont know if we need to make it to csv?"
   ]
  },
  {
   "cell_type": "code",
   "execution_count": null,
   "id": "036aca5c-8429-4582-a4c5-a0cb960aab35",
   "metadata": {},
   "outputs": [],
   "source": [
    "def make_csv(data, name):\n",
    "    data.to_csv(f'{name}.csv')"
   ]
  },
  {
   "cell_type": "markdown",
   "id": "25eed12f",
   "metadata": {},
   "source": [
    "Here are all predictions made, the measurements are in a list"
   ]
  },
  {
   "cell_type": "code",
   "execution_count": null,
   "id": "7e500665-0cbb-44e2-a2a0-33a94854fac4",
   "metadata": {},
   "outputs": [],
   "source": [
    "def make_predictions(kindofmodel:str, measurements:list, w, h, g):\n",
    "    output=pd.DataFrame()\n",
    "    for m in measurements:\n",
    "        pred = predict_from_model(kindofmodel, m, w, h, g)\n",
    "        add_to_df(output, m, pred)\n",
    "    return output"
   ]
  },
  {
   "cell_type": "code",
   "execution_count": null,
   "id": "928484cb",
   "metadata": {},
   "outputs": [
    {
     "data": {
      "application/vnd.microsoft.datawrangler.viewer.v0+json": {
       "columns": [
        {
         "name": "index",
         "rawType": "int64",
         "type": "integer"
        },
        {
         "name": "abdominalextensiondepthsitting",
         "rawType": "float32",
         "type": "float"
        },
        {
         "name": "acromialheight",
         "rawType": "float32",
         "type": "float"
        }
       ],
       "conversionMethod": "pd.DataFrame",
       "ref": "e9a22e7a-215f-4a3e-aee8-a97e6167a8d2",
       "rows": [
        [
         "0",
         "232.04402",
         "1474.5432"
        ]
       ],
       "shape": {
        "columns": 2,
        "rows": 1
       }
      },
      "text/html": [
       "<div>\n",
       "<style scoped>\n",
       "    .dataframe tbody tr th:only-of-type {\n",
       "        vertical-align: middle;\n",
       "    }\n",
       "\n",
       "    .dataframe tbody tr th {\n",
       "        vertical-align: top;\n",
       "    }\n",
       "\n",
       "    .dataframe thead th {\n",
       "        text-align: right;\n",
       "    }\n",
       "</style>\n",
       "<table border=\"1\" class=\"dataframe\">\n",
       "  <thead>\n",
       "    <tr style=\"text-align: right;\">\n",
       "      <th></th>\n",
       "      <th>abdominalextensiondepthsitting</th>\n",
       "      <th>acromialheight</th>\n",
       "    </tr>\n",
       "  </thead>\n",
       "  <tbody>\n",
       "    <tr>\n",
       "      <th>0</th>\n",
       "      <td>232.044022</td>\n",
       "      <td>1474.543213</td>\n",
       "    </tr>\n",
       "  </tbody>\n",
       "</table>\n",
       "</div>"
      ],
      "text/plain": [
       "   abdominalextensiondepthsitting  acromialheight\n",
       "0                      232.044022     1474.543213"
      ]
     },
     "execution_count": null,
     "metadata": {},
     "output_type": "execute_result"
    }
   ],
   "source": [
    "make_predictions('xgboost',['abdominalextensiondepthsitting','acromialheight'], 80, 1800, 1)"
   ]
  },
  {
   "cell_type": "code",
   "execution_count": null,
   "id": "9d811ad8",
   "metadata": {},
   "outputs": [],
   "source": []
  }
 ],
 "metadata": {
  "kernelspec": {
   "display_name": "python3",
   "language": "python",
   "name": "python3"
  }
 },
 "nbformat": 4,
 "nbformat_minor": 5
}

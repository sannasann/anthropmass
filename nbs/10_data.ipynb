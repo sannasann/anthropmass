{
 "cells": [
  {
   "cell_type": "code",
   "execution_count": 17,
   "id": "9be8f0c2-76c9-4619-a5ed-436ed275cfcf",
   "metadata": {},
   "outputs": [],
   "source": [
    "import numpy as np\n",
    "import pandas as pd\n",
    "from sklearn.model_selection import train_test_split"
   ]
  },
  {
   "cell_type": "markdown",
   "id": "aed5c2b4-ec0a-4919-82b6-b7dffa2690e3",
   "metadata": {},
   "source": [
    "### Read ansur data\n",
    "divide weight with 10 to get kg"
   ]
  },
  {
   "cell_type": "code",
   "execution_count": 10,
   "id": "7a8a5f14-4dbe-4a63-bdaa-3d711dd1af06",
   "metadata": {},
   "outputs": [],
   "source": [
    "def read_file():\n",
    "    datamale=pd.read_csv('../data/raw/ANSURIIMALEPublic.csv', encoding='latin')  \n",
    "    datafemale=pd.read_csv('../data/raw/ANSURIIFEMALEPublic.csv')  \n",
    "\n",
    "    datafemale = datafemale.rename(columns= {\"SubjectId\":\"subjectid\"}) \n",
    "    ansur = pd.concat([datamale, datafemale])\n",
    "    ansur['Gender']=ansur['Gender'].map({'Male': 1, 'Female': 0})\n",
    "    \n",
    "    ansur[\"weightkg\"] = ansur[\"weightkg\"]/10\n",
    "    return ansur"
   ]
  },
  {
   "cell_type": "code",
   "execution_count": 12,
   "id": "70c818ad-eb16-4783-b05b-3489c85a00c6",
   "metadata": {},
   "outputs": [],
   "source": [
    "ansur = read_file()\n",
    "ansur.to_csv('../data/processed/ANSURIImalefemale.csv')"
   ]
  },
  {
   "cell_type": "markdown",
   "id": "2662eba7-7a74-4549-8ed5-381f7b4876e9",
   "metadata": {},
   "source": [
    "### Normailze"
   ]
  },
  {
   "cell_type": "code",
   "execution_count": 13,
   "id": "fb838a1e-c91a-4e5b-a3fb-14d7a381ef8f",
   "metadata": {},
   "outputs": [],
   "source": [
    "def normalize_all(data, measurement:list):\n",
    "    ansur=read_file()\n",
    "    for m in measurement:\n",
    "        avg_m = ansur[m].mean()\n",
    "        std_m = ansur[m].std()\n",
    "        data[m] = (data[m] - avg_m) / std_m\n",
    "    return data"
   ]
  },
  {
   "cell_type": "code",
   "execution_count": 16,
   "id": "8970fa0a-3f51-46d8-aee6-ed3e17f78cfa",
   "metadata": {},
   "outputs": [],
   "source": [
    "normalized = normalize_all(ansur, ['weightkg', 'stature'])\n",
    "normalized.to_csv('../data/processed/ANSURIInormalized.csv')"
   ]
  },
  {
   "cell_type": "markdown",
   "id": "1cb51d02-b08e-445b-a75a-4daf73b09452",
   "metadata": {},
   "source": [
    "### Train and test data"
   ]
  },
  {
   "cell_type": "code",
   "execution_count": 19,
   "id": "a7ef1ae2-945d-4652-877a-c766551be70b",
   "metadata": {},
   "outputs": [],
   "source": [
    "def make_train_test(data):\n",
    "    train, test = train_test_split(data, test_size=.20, shuffle=True, random_state=42)\n",
    "    return train, test"
   ]
  },
  {
   "cell_type": "code",
   "execution_count": 20,
   "id": "9019110d-bffd-49ad-9768-d912d945a9a4",
   "metadata": {},
   "outputs": [],
   "source": [
    "train, test = make_train_test(normalized)\n",
    "train.to_csv('../data/processed/ANSURIInormalizedtrain.csv')\n",
    "test.to_csv('../data/processed/ANSURIInormalizedtest.csv')"
   ]
  },
  {
   "cell_type": "code",
   "execution_count": null,
   "id": "8ba07a97-d4f0-4612-8357-683bc61c7251",
   "metadata": {},
   "outputs": [],
   "source": []
  }
 ],
 "metadata": {
  "kernelspec": {
   "display_name": "Python 3 (ipykernel)",
   "language": "python",
   "name": "python3"
  },
  "language_info": {
   "codemirror_mode": {
    "name": "ipython",
    "version": 3
   },
   "file_extension": ".py",
   "mimetype": "text/x-python",
   "name": "python",
   "nbconvert_exporter": "python",
   "pygments_lexer": "ipython3",
   "version": "3.11.7"
  }
 },
 "nbformat": 4,
 "nbformat_minor": 5
}
